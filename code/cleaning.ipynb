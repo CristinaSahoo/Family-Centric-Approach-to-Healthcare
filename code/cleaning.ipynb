{
 "cells": [
  {
   "cell_type": "code",
   "execution_count": 764,
   "metadata": {},
   "outputs": [],
   "source": [
    "import pandas as pd\n",
    "import re"
   ]
  },
  {
   "cell_type": "code",
   "execution_count": 765,
   "metadata": {},
   "outputs": [],
   "source": [
    "import warnings\n",
    "warnings.filterwarnings(\"ignore\")"
   ]
  },
  {
   "cell_type": "code",
   "execution_count": 766,
   "metadata": {},
   "outputs": [],
   "source": [
    "pd.set_option('display.max_columns', 1_000)\n",
    "pd.set_option('display.max_rows', 1_000)"
   ]
  },
  {
   "cell_type": "code",
   "execution_count": 767,
   "metadata": {},
   "outputs": [],
   "source": [
    "dfs = []"
   ]
  },
  {
   "cell_type": "code",
   "execution_count": 768,
   "metadata": {},
   "outputs": [
    {
     "data": {
      "text/plain": [
       "(2016, 75)"
      ]
     },
     "execution_count": 768,
     "metadata": {},
     "output_type": "execute_result"
    }
   ],
   "source": [
    "dfs.append(pd.read_csv('../data/toddlers.csv'))\n",
    "\n",
    "dfs.append(pd.read_csv('../data/teenagers.csv'))\n",
    "\n",
    "df = pd.concat(dfs)\n",
    "\n",
    "df.shape"
   ]
  },
  {
   "cell_type": "code",
   "execution_count": 769,
   "metadata": {},
   "outputs": [
    {
     "data": {
      "text/html": [
       "<div>\n",
       "<style scoped>\n",
       "    .dataframe tbody tr th:only-of-type {\n",
       "        vertical-align: middle;\n",
       "    }\n",
       "\n",
       "    .dataframe tbody tr th {\n",
       "        vertical-align: top;\n",
       "    }\n",
       "\n",
       "    .dataframe thead th {\n",
       "        text-align: right;\n",
       "    }\n",
       "</style>\n",
       "<table border=\"1\" class=\"dataframe\">\n",
       "  <thead>\n",
       "    <tr style=\"text-align: right;\">\n",
       "      <th></th>\n",
       "      <th>title</th>\n",
       "      <th>selftext</th>\n",
       "      <th>class_target</th>\n",
       "    </tr>\n",
       "  </thead>\n",
       "  <tbody>\n",
       "    <tr>\n",
       "      <th>0</th>\n",
       "      <td>My 2yo doesn’t like the potty.</td>\n",
       "      <td>Hey!\\n\\nI’ve been trying to potty train my dau...</td>\n",
       "      <td>1</td>\n",
       "    </tr>\n",
       "    <tr>\n",
       "      <th>1</th>\n",
       "      <td>Numberblocks Number Magic Run - Pre-schoolers ...</td>\n",
       "      <td>I Watch this App for Toddlers in Youtube [http...</td>\n",
       "      <td>1</td>\n",
       "    </tr>\n",
       "    <tr>\n",
       "      <th>2</th>\n",
       "      <td>He has us both losing it with his repetitive p...</td>\n",
       "      <td>\"See me mommy! See me daddy! See me! See me! S...</td>\n",
       "      <td>1</td>\n",
       "    </tr>\n",
       "    <tr>\n",
       "      <th>3</th>\n",
       "      <td>Is it inconsiderate to ask daycare to not let ...</td>\n",
       "      <td>So, our almost 3 y/o started going to daycare ...</td>\n",
       "      <td>1</td>\n",
       "    </tr>\n",
       "    <tr>\n",
       "      <th>4</th>\n",
       "      <td>baby girl frock</td>\n",
       "      <td>[removed]</td>\n",
       "      <td>1</td>\n",
       "    </tr>\n",
       "  </tbody>\n",
       "</table>\n",
       "</div>"
      ],
      "text/plain": [
       "                                               title  \\\n",
       "0                     My 2yo doesn’t like the potty.   \n",
       "1  Numberblocks Number Magic Run - Pre-schoolers ...   \n",
       "2  He has us both losing it with his repetitive p...   \n",
       "3  Is it inconsiderate to ask daycare to not let ...   \n",
       "4                                    baby girl frock   \n",
       "\n",
       "                                            selftext  class_target  \n",
       "0  Hey!\\n\\nI’ve been trying to potty train my dau...             1  \n",
       "1  I Watch this App for Toddlers in Youtube [http...             1  \n",
       "2  \"See me mommy! See me daddy! See me! See me! S...             1  \n",
       "3  So, our almost 3 y/o started going to daycare ...             1  \n",
       "4                                          [removed]             1  "
      ]
     },
     "execution_count": 769,
     "metadata": {},
     "output_type": "execute_result"
    }
   ],
   "source": [
    "df[['title', 'selftext', 'class_target']].head()"
   ]
  },
  {
   "cell_type": "code",
   "execution_count": 770,
   "metadata": {},
   "outputs": [
    {
     "data": {
      "text/plain": [
       "0    0.506944\n",
       "1    0.493056\n",
       "Name: class_target, dtype: float64"
      ]
     },
     "execution_count": 770,
     "metadata": {},
     "output_type": "execute_result"
    }
   ],
   "source": [
    "df['class_target'].value_counts(normalize=True)"
   ]
  },
  {
   "cell_type": "code",
   "execution_count": 771,
   "metadata": {},
   "outputs": [],
   "source": [
    "df['text'] = df['title'] + ' ' + df['selftext']"
   ]
  },
  {
   "cell_type": "code",
   "execution_count": 772,
   "metadata": {},
   "outputs": [
    {
     "data": {
      "text/html": [
       "<div>\n",
       "<style scoped>\n",
       "    .dataframe tbody tr th:only-of-type {\n",
       "        vertical-align: middle;\n",
       "    }\n",
       "\n",
       "    .dataframe tbody tr th {\n",
       "        vertical-align: top;\n",
       "    }\n",
       "\n",
       "    .dataframe thead th {\n",
       "        text-align: right;\n",
       "    }\n",
       "</style>\n",
       "<table border=\"1\" class=\"dataframe\">\n",
       "  <thead>\n",
       "    <tr style=\"text-align: right;\">\n",
       "      <th></th>\n",
       "      <th>title</th>\n",
       "      <th>selftext</th>\n",
       "      <th>class_target</th>\n",
       "      <th>link_flair_text</th>\n",
       "      <th>text</th>\n",
       "    </tr>\n",
       "  </thead>\n",
       "  <tbody>\n",
       "    <tr>\n",
       "      <th>0</th>\n",
       "      <td>My 2yo doesn’t like the potty.</td>\n",
       "      <td>Hey!\\n\\nI’ve been trying to potty train my dau...</td>\n",
       "      <td>1</td>\n",
       "      <td>Question</td>\n",
       "      <td>My 2yo doesn’t like the potty. Hey!\\n\\nI’ve be...</td>\n",
       "    </tr>\n",
       "  </tbody>\n",
       "</table>\n",
       "</div>"
      ],
      "text/plain": [
       "                            title  \\\n",
       "0  My 2yo doesn’t like the potty.   \n",
       "\n",
       "                                            selftext  class_target  \\\n",
       "0  Hey!\\n\\nI’ve been trying to potty train my dau...             1   \n",
       "\n",
       "  link_flair_text                                               text  \n",
       "0        Question  My 2yo doesn’t like the potty. Hey!\\n\\nI’ve be...  "
      ]
     },
     "execution_count": 772,
     "metadata": {},
     "output_type": "execute_result"
    }
   ],
   "source": [
    "df[['title', 'selftext', 'class_target', 'link_flair_text', 'text']].head(1)"
   ]
  },
  {
   "cell_type": "code",
   "execution_count": 773,
   "metadata": {},
   "outputs": [
    {
     "data": {
      "text/plain": [
       "0"
      ]
     },
     "execution_count": 773,
     "metadata": {},
     "output_type": "execute_result"
    }
   ],
   "source": [
    "df[['title', 'selftext']].duplicated().sum()"
   ]
  },
  {
   "cell_type": "code",
   "execution_count": 774,
   "metadata": {},
   "outputs": [],
   "source": [
    "df.drop_duplicates(subset=['title', 'selftext'], inplace=True)"
   ]
  },
  {
   "cell_type": "code",
   "execution_count": 775,
   "metadata": {},
   "outputs": [
    {
     "data": {
      "text/plain": [
       "(2016, 76)"
      ]
     },
     "execution_count": 775,
     "metadata": {},
     "output_type": "execute_result"
    }
   ],
   "source": [
    "df.shape"
   ]
  },
  {
   "cell_type": "code",
   "execution_count": 776,
   "metadata": {},
   "outputs": [],
   "source": [
    "df.reset_index(drop=True, inplace=True)"
   ]
  },
  {
   "cell_type": "code",
   "execution_count": 777,
   "metadata": {},
   "outputs": [
    {
     "data": {
      "text/plain": [
       "(2016, 76)"
      ]
     },
     "execution_count": 777,
     "metadata": {},
     "output_type": "execute_result"
    }
   ],
   "source": [
    "df.shape"
   ]
  },
  {
   "cell_type": "code",
   "execution_count": 778,
   "metadata": {},
   "outputs": [],
   "source": [
    "df['title_char_count'] = df['title'].map(len)\n",
    "\n",
    "df['title_word_count'] = df['title'].map(lambda x: len(x.split()))\n",
    "\n",
    "df['selftext_char_count'] = df['selftext'].map(str)\n",
    "\n",
    "df['selftext_char_count'] = df['selftext_char_count'].map(len)\n",
    "\n",
    "df['selftext_word_count'] = df['selftext'].map(str)\n",
    "\n",
    "df['selftext_word_count'] = df['selftext_word_count'].map(lambda x: len(x.split()))"
   ]
  },
  {
   "cell_type": "code",
   "execution_count": 779,
   "metadata": {},
   "outputs": [],
   "source": [
    "FEATURES = ['title', 'selftext', 'class_target', 'text', \n",
    "            'title_char_count', 'title_word_count', \n",
    "            'selftext_char_count', 'selftext_word_count']"
   ]
  },
  {
   "cell_type": "code",
   "execution_count": 780,
   "metadata": {},
   "outputs": [
    {
     "data": {
      "text/html": [
       "<div>\n",
       "<style scoped>\n",
       "    .dataframe tbody tr th:only-of-type {\n",
       "        vertical-align: middle;\n",
       "    }\n",
       "\n",
       "    .dataframe tbody tr th {\n",
       "        vertical-align: top;\n",
       "    }\n",
       "\n",
       "    .dataframe thead th {\n",
       "        text-align: right;\n",
       "    }\n",
       "</style>\n",
       "<table border=\"1\" class=\"dataframe\">\n",
       "  <thead>\n",
       "    <tr style=\"text-align: right;\">\n",
       "      <th></th>\n",
       "      <th>title</th>\n",
       "      <th>selftext</th>\n",
       "      <th>class_target</th>\n",
       "      <th>text</th>\n",
       "      <th>title_char_count</th>\n",
       "      <th>title_word_count</th>\n",
       "      <th>selftext_char_count</th>\n",
       "      <th>selftext_word_count</th>\n",
       "    </tr>\n",
       "  </thead>\n",
       "  <tbody>\n",
       "    <tr>\n",
       "      <th>0</th>\n",
       "      <td>My 2yo doesn’t like the potty.</td>\n",
       "      <td>Hey!\\n\\nI’ve been trying to potty train my dau...</td>\n",
       "      <td>1</td>\n",
       "      <td>My 2yo doesn’t like the potty. Hey!\\n\\nI’ve be...</td>\n",
       "      <td>30</td>\n",
       "      <td>6</td>\n",
       "      <td>628</td>\n",
       "      <td>121</td>\n",
       "    </tr>\n",
       "  </tbody>\n",
       "</table>\n",
       "</div>"
      ],
      "text/plain": [
       "                            title  \\\n",
       "0  My 2yo doesn’t like the potty.   \n",
       "\n",
       "                                            selftext  class_target  \\\n",
       "0  Hey!\\n\\nI’ve been trying to potty train my dau...             1   \n",
       "\n",
       "                                                text  title_char_count  \\\n",
       "0  My 2yo doesn’t like the potty. Hey!\\n\\nI’ve be...                30   \n",
       "\n",
       "   title_word_count  selftext_char_count  selftext_word_count  \n",
       "0                 6                  628                  121  "
      ]
     },
     "execution_count": 780,
     "metadata": {},
     "output_type": "execute_result"
    }
   ],
   "source": [
    "df[FEATURES].head(1)"
   ]
  },
  {
   "cell_type": "code",
   "execution_count": 781,
   "metadata": {},
   "outputs": [
    {
     "data": {
      "text/plain": [
       "text                   44\n",
       "selftext               44\n",
       "selftext_word_count     0\n",
       "selftext_char_count     0\n",
       "title_word_count        0\n",
       "title_char_count        0\n",
       "class_target            0\n",
       "title                   0\n",
       "dtype: int64"
      ]
     },
     "execution_count": 781,
     "metadata": {},
     "output_type": "execute_result"
    }
   ],
   "source": [
    "df[FEATURES].isnull().sum().sort_values(ascending=False)"
   ]
  },
  {
   "cell_type": "code",
   "execution_count": 782,
   "metadata": {},
   "outputs": [],
   "source": [
    "df_copy = df"
   ]
  },
  {
   "cell_type": "code",
   "execution_count": 783,
   "metadata": {},
   "outputs": [],
   "source": [
    "df = df[FEATURES]"
   ]
  },
  {
   "cell_type": "code",
   "execution_count": 784,
   "metadata": {},
   "outputs": [
    {
     "data": {
      "text/plain": [
       "(2016, 8)"
      ]
     },
     "execution_count": 784,
     "metadata": {},
     "output_type": "execute_result"
    }
   ],
   "source": [
    "df.shape"
   ]
  },
  {
   "cell_type": "code",
   "execution_count": 785,
   "metadata": {},
   "outputs": [
    {
     "data": {
      "text/plain": [
       "text                   44\n",
       "selftext               44\n",
       "selftext_word_count     0\n",
       "selftext_char_count     0\n",
       "title_word_count        0\n",
       "title_char_count        0\n",
       "class_target            0\n",
       "title                   0\n",
       "dtype: int64"
      ]
     },
     "execution_count": 785,
     "metadata": {},
     "output_type": "execute_result"
    }
   ],
   "source": [
    "df.isnull().sum().sort_values(ascending=False)"
   ]
  },
  {
   "cell_type": "code",
   "execution_count": 786,
   "metadata": {},
   "outputs": [],
   "source": [
    "df.dropna(inplace=True)"
   ]
  },
  {
   "cell_type": "code",
   "execution_count": 787,
   "metadata": {},
   "outputs": [
    {
     "data": {
      "text/plain": [
       "(1972, 8)"
      ]
     },
     "execution_count": 787,
     "metadata": {},
     "output_type": "execute_result"
    }
   ],
   "source": [
    "df.shape"
   ]
  },
  {
   "cell_type": "code",
   "execution_count": 788,
   "metadata": {},
   "outputs": [
    {
     "data": {
      "text/plain": [
       "0    0.507099\n",
       "1    0.492901\n",
       "Name: class_target, dtype: float64"
      ]
     },
     "execution_count": 788,
     "metadata": {},
     "output_type": "execute_result"
    }
   ],
   "source": [
    "df['class_target'].value_counts(normalize=True)"
   ]
  },
  {
   "cell_type": "code",
   "execution_count": 789,
   "metadata": {},
   "outputs": [],
   "source": [
    "df['flair'] = df_copy['link_flair_text']"
   ]
  },
  {
   "cell_type": "code",
   "execution_count": 790,
   "metadata": {},
   "outputs": [
    {
     "data": {
      "text/html": [
       "<div>\n",
       "<style scoped>\n",
       "    .dataframe tbody tr th:only-of-type {\n",
       "        vertical-align: middle;\n",
       "    }\n",
       "\n",
       "    .dataframe tbody tr th {\n",
       "        vertical-align: top;\n",
       "    }\n",
       "\n",
       "    .dataframe thead th {\n",
       "        text-align: right;\n",
       "    }\n",
       "</style>\n",
       "<table border=\"1\" class=\"dataframe\">\n",
       "  <thead>\n",
       "    <tr style=\"text-align: right;\">\n",
       "      <th></th>\n",
       "      <th>title</th>\n",
       "      <th>selftext</th>\n",
       "      <th>class_target</th>\n",
       "      <th>text</th>\n",
       "      <th>title_char_count</th>\n",
       "      <th>title_word_count</th>\n",
       "      <th>selftext_char_count</th>\n",
       "      <th>selftext_word_count</th>\n",
       "      <th>flair</th>\n",
       "    </tr>\n",
       "  </thead>\n",
       "  <tbody>\n",
       "    <tr>\n",
       "      <th>0</th>\n",
       "      <td>My 2yo doesn’t like the potty.</td>\n",
       "      <td>Hey!\\n\\nI’ve been trying to potty train my dau...</td>\n",
       "      <td>1</td>\n",
       "      <td>My 2yo doesn’t like the potty. Hey!\\n\\nI’ve be...</td>\n",
       "      <td>30</td>\n",
       "      <td>6</td>\n",
       "      <td>628</td>\n",
       "      <td>121</td>\n",
       "      <td>Question</td>\n",
       "    </tr>\n",
       "  </tbody>\n",
       "</table>\n",
       "</div>"
      ],
      "text/plain": [
       "                            title  \\\n",
       "0  My 2yo doesn’t like the potty.   \n",
       "\n",
       "                                            selftext  class_target  \\\n",
       "0  Hey!\\n\\nI’ve been trying to potty train my dau...             1   \n",
       "\n",
       "                                                text  title_char_count  \\\n",
       "0  My 2yo doesn’t like the potty. Hey!\\n\\nI’ve be...                30   \n",
       "\n",
       "   title_word_count  selftext_char_count  selftext_word_count     flair  \n",
       "0                 6                  628                  121  Question  "
      ]
     },
     "execution_count": 790,
     "metadata": {},
     "output_type": "execute_result"
    }
   ],
   "source": [
    "df.head(1)"
   ]
  },
  {
   "cell_type": "code",
   "execution_count": 791,
   "metadata": {},
   "outputs": [],
   "source": [
    "df['text'] = df['text'].map(str)\n",
    "\n",
    "df['text'] = df['text'].map(lambda x: re.sub('\\d+ ', '', x))\n",
    "\n",
    "df['text'] = df['text'].map(lambda x: re.sub('_', ' ', x))\n",
    "\n",
    "df['text'] = df['text'].map(lambda x: re.sub('a{3,}', 'a', x))\n",
    "\n",
    "df['text'] = df['text'].map(lambda x: re.sub('\\\\n', ' ', x))"
   ]
  },
  {
   "cell_type": "code",
   "execution_count": 792,
   "metadata": {},
   "outputs": [],
   "source": [
    "\"\"\"\n",
    "df['text'] = df['text'].map(lambda x: re.sub('’', '', x))\n",
    "df['text'] = df['text'].map(lambda x: re.sub('\\\\n', ' ', x))\n",
    "df['text'] = df['text'].map(lambda x: re.sub('\\.', ' ', x))\n",
    "df['text'] = df['text'].map(lambda x: re.sub('!', ' ', x))\n",
    "df['text'] = df['text'].map(lambda x: re.sub('“', ' ', x))\n",
    "df['text'] = df['text'].map(lambda x: re.sub('”', ' ', x))\n",
    "df['text'] = df['text'].map(lambda x: re.sub('/', ' ', x))\n",
    "df['text'] = df['text'].map(lambda x: re.sub(',', ' ', x))\n",
    "df['text'] = df['text'].map(lambda x: re.sub('\\?', ' ', x))\n",
    "df['text'] = df['text'].map(lambda x: re.sub('-', ' ', x))\n",
    "df['text'] = df['text'].map(lambda x: re.sub('\\)', ' ', x))\n",
    "df['text'] = df['text'].map(lambda x: re.sub('\\(', ' ', x))\n",
    "df['text'] = df['text'].map(lambda x: re.sub('\\'', '', x))\n",
    "\"\"\";"
   ]
  },
  {
   "cell_type": "code",
   "execution_count": 793,
   "metadata": {},
   "outputs": [
    {
     "data": {
      "text/plain": [
       "'The cost of raising a child who likes to work on stuff I have a teenage son who likes to work on motorcycles and vehicles. This is generally great because I work on machines too and many times we work together. I got him a set of tools that rivals my own... yet he still borrows mine frequently and well, how to put this gently... he loses or misplaces my tools all the time, so when I go to work on something, I waste so much time looking for them. It seems no amount of reminding him to put them back where they belong. Of course I’ve thought about locking them up, but I’d so much rather be able to simply trust him. I’ve come to the realization that maybe lost tools are just part of the cost of having an otherwise fantastic son. I figure once he moves out of the house I’ll replace what I need and be glad for the times we got to fix stuff together. Is this just giving up, being too complacent while letting him have his way or should I put my foot down and demand he respect my stuff right now as long as he lives with me?'"
      ]
     },
     "execution_count": 793,
     "metadata": {},
     "output_type": "execute_result"
    }
   ],
   "source": [
    "df['text'][999]"
   ]
  },
  {
   "cell_type": "code",
   "execution_count": 794,
   "metadata": {},
   "outputs": [
    {
     "data": {
      "text/plain": [
       "(1972, 9)"
      ]
     },
     "execution_count": 794,
     "metadata": {},
     "output_type": "execute_result"
    }
   ],
   "source": [
    "df.shape"
   ]
  },
  {
   "cell_type": "code",
   "execution_count": 795,
   "metadata": {},
   "outputs": [],
   "source": [
    "df.to_csv('../data/subreddits.csv', index=False)"
   ]
  },
  {
   "cell_type": "code",
   "execution_count": null,
   "metadata": {},
   "outputs": [],
   "source": []
  }
 ],
 "metadata": {
  "kernelspec": {
   "display_name": "Python 3",
   "language": "python",
   "name": "python3"
  },
  "language_info": {
   "codemirror_mode": {
    "name": "ipython",
    "version": 3
   },
   "file_extension": ".py",
   "mimetype": "text/x-python",
   "name": "python",
   "nbconvert_exporter": "python",
   "pygments_lexer": "ipython3",
   "version": "3.8.3"
  }
 },
 "nbformat": 4,
 "nbformat_minor": 4
}
